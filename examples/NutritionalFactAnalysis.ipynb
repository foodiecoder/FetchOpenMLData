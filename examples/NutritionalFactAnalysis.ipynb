{
 "cells": [
  {
   "cell_type": "code",
   "execution_count": 3,
   "id": "531d2613-4a9a-4921-91d9-7c89a252eda6",
   "metadata": {},
   "outputs": [],
   "source": [
    "using FetchOpenMLData\n",
    "using DataFrames"
   ]
  },
  {
   "cell_type": "code",
   "execution_count": 5,
   "id": "177a54a2-3e27-4aed-890d-e9da30c45f4a",
   "metadata": {},
   "outputs": [
    {
     "name": "stderr",
     "output_type": "stream",
     "text": [
      "\u001b[36m\u001b[1m[ \u001b[22m\u001b[39m\u001b[36m\u001b[1mInfo: \u001b[22m\u001b[39mLoading cached data from /Users/tneumann/.julia/dev/FetchOpenMLData/examples/data/Nutritional-Facts-for-most-common-foods_43423.arff\n"
     ]
    },
    {
     "data": {
      "text/plain": [
       "(\u001b[1m268×6 DataFrame\u001b[0m\n",
       "\u001b[1m Row \u001b[0m│\u001b[1m Food                              \u001b[0m\u001b[1m Measure    \u001b[0m\u001b[1m Grams  \u001b[0m\u001b[1m Calories \u001b[0m\u001b[1m Fiber \u001b[0m ⋯\n",
       "     │\u001b[90m String                            \u001b[0m\u001b[90m String     \u001b[0m\u001b[90m String \u001b[0m\u001b[90m String?  \u001b[0m\u001b[90m String\u001b[0m ⋯\n",
       "─────┼──────────────────────────────────────────────────────────────────────────\n",
       "   1 │ Chard steamed                      1 cup       150     30        1.4    ⋯\n",
       "   2 │ Fruit cocktail, canned             1 cup       256     195       0.5\n",
       "   3 │ Flour                              1 cup       110     460       2.9\n",
       "   4 │ Frozen peas                        1 cup       100    \u001b[90m missing  \u001b[0m 1.8\n",
       "   5 │ uncreamed                          1 cup       225     195       0      ⋯\n",
       "   6 │ Asparagus                          6 spears    96      18        0.5\n",
       "   7 │ Persimmons                         1 med.      125     75        2\n",
       "   8 │ Butter                             1/4lb.      112     113       117\n",
       "   9 │ Limeade concentrate frozen         6-oz. can   218     405       t      ⋯\n",
       "  10 │ Chicken livers, fried              3 med.      100     140       0\n",
       "  11 │ Oyster stew                        1 cup       85      125       0\n",
       "  ⋮  │                 ⋮                      ⋮         ⋮        ⋮        ⋮    ⋱\n",
       " 259 │ Carbonated drinks Artificially s…  12 oz.      346     0         0\n",
       " 260 │ Wheat, cooked                      3/4 cup     200     275       4.40   ⋯\n",
       " 261 │ Corned beef                        3 oz.       85      185       0\n",
       " 262 │ Stalk raw                          1 large     40      5         0.3\n",
       " 263 │ Pumpkin Pie                        1 slice     130     265       8\n",
       " 264 │ Pears                              1 cup       255     195       2      ⋯\n",
       " 265 │ Sesame seeds                       1/2 cup     50      280       3.1\n",
       " 266 │ Cheddar                            1-in. cube  17      70        0\n",
       " 267 │ Mustard greens                     1           140     30        1.2\n",
       " 268 │ Iceberg                            1/4 head    100     13        0.5    ⋯\n",
       "\u001b[36m                                                   1 column and 247 rows omitted\u001b[0m, \u001b[1m67×6 DataFrame\u001b[0m\n",
       "\u001b[1m Row \u001b[0m│\u001b[1m Food                      \u001b[0m\u001b[1m Measure    \u001b[0m\u001b[1m Grams  \u001b[0m\u001b[1m Calories \u001b[0m\u001b[1m Fiber  \u001b[0m\u001b[1m Catego\u001b[0m ⋯\n",
       "     │\u001b[90m String                    \u001b[0m\u001b[90m String     \u001b[0m\u001b[90m String \u001b[0m\u001b[90m String?  \u001b[0m\u001b[90m String \u001b[0m\u001b[90m String\u001b[0m ⋯\n",
       "─────┼──────────────────────────────────────────────────────────────────────────\n",
       "   1 │ Cucumbers                  8           50      6         0.2     Vegeta ⋯\n",
       "   2 │ Haddock                    3 oz.       85      135       0       Fish,\n",
       "   3 │ Banana                     1 med.      150     85        0.9     Fruits\n",
       "   4 │ Turkey                     3 1/2 oz.   100     265       0       Meat,\n",
       "   5 │ Raw, 2 by 2 1/2            1 med.      150     30        0.6     Vegeta ⋯\n",
       "   6 │ Root beer                  12 oz.      346     140       0       Drinks\n",
       "   7 │ Puffed wheat presweetened  1 cup       28      105       0.6     Breads\n",
       "   8 │ Milk chocolate             2-oz. bar   56      290       0.2     Desser\n",
       "   9 │ Tuna                       3 oz.       85      170       0       Fish,  ⋯\n",
       "  10 │ Pork, chop, 1 thick        3 1/2 oz.   100     260       0       Meat,\n",
       "  11 │ Cherry Pie                 1 slice     135     340       0.1     Desser\n",
       "  ⋮  │             ⋮                  ⋮         ⋮        ⋮        ⋮            ⋱\n",
       "  58 │ Custard                    1 slice     130     265       0       Desser\n",
       "  59 │ Grape juice                1 cup       250     160       t       Fruits ⋯\n",
       "  60 │ Strips, from raw           1 mad.      50      20        0.5     Vegeta\n",
       "  61 │ table blends sugar         2 T.        40      110       0       Jams,\n",
       "  62 │ Okra                       1 1/3 cups  100     32        1       Vegeta\n",
       "  63 │ Dandelion greens           1 cup       180     80        3.2     Vegeta ⋯\n",
       "  64 │ skim, non-instant          2/3 cup     85      290       1       Dairy\n",
       "  65 │ Peanut butter, natural     1/3 cup     50      284       0.9     Seeds\n",
       "  66 │ skim, instant              1 1/3 cups  85      290       0       Dairy\n",
       "  67 │ Veal                       3 oz.       85      185       0       Meat,  ⋯\n",
       "\u001b[36m                                                    1 column and 46 rows omitted\u001b[0m, \u001b[1m268×4 DataFrame\u001b[0m\n",
       "\u001b[1m Row \u001b[0m│\u001b[1m Protein \u001b[0m\u001b[1m Fat    \u001b[0m\u001b[1m Sat.Fat \u001b[0m\u001b[1m Carbs  \u001b[0m\n",
       "     │\u001b[90m String  \u001b[0m\u001b[90m String \u001b[0m\u001b[90m String? \u001b[0m\u001b[90m String \u001b[0m\n",
       "─────┼──────────────────────────────────\n",
       "   1 │ 2        t       0        7\n",
       "   2 │ 1        t       0        50\n",
       "   3 │ 39       22      0        33\n",
       "   4 │ 5        t       0        12\n",
       "   5 │ 38       t       t        6\n",
       "   6 │ 1        t       t        3\n",
       "   7 │ 1        t       0        20\n",
       "   8 │ 114      115     116      118\n",
       "   9 │ t        t       0        108\n",
       "  10 │ 22       14      12       2.30\n",
       "  11 │ 19       6       1        0\n",
       "  ⋮  │    ⋮       ⋮        ⋮       ⋮\n",
       " 259 │ 0        0       0        0\n",
       " 260 │ 12       1       0        35\n",
       " 261 │ 22       10      9        0\n",
       " 262 │ 1        t       0        1\n",
       " 263 │ 5        12      11       34\n",
       " 264 │ 1        t       0        50\n",
       " 265 │ 9        24      13       10\n",
       " 266 │ 4        6       5        t\n",
       " 267 │ 3        t       0        6\n",
       " 268 │ t        t       0        3\n",
       "\u001b[36m                        247 rows omitted\u001b[0m, \u001b[1m67×4 DataFrame\u001b[0m\n",
       "\u001b[1m Row \u001b[0m│\u001b[1m Protein \u001b[0m\u001b[1m Fat    \u001b[0m\u001b[1m Sat.Fat \u001b[0m\u001b[1m Carbs  \u001b[0m\n",
       "     │\u001b[90m String  \u001b[0m\u001b[90m String \u001b[0m\u001b[90m String? \u001b[0m\u001b[90m String \u001b[0m\n",
       "─────┼──────────────────────────────────\n",
       "   1 │ t        0       0        1\n",
       "   2 │ 16       5       4        6\n",
       "   3 │ 1        t       0        23\n",
       "   4 │ 27       15      0        0\n",
       "   5 │ 1        t       0        6\n",
       "   6 │ 0        0       0        35\n",
       "   7 │ 1        t       0        26\n",
       "   8 │ 2        6       6        44\n",
       "   9 │ 25       7       3        0\n",
       "  10 │ 16       21      18       0\n",
       "  11 │ 3        13      11       55\n",
       "  ⋮  │    ⋮       ⋮        ⋮       ⋮\n",
       "  58 │ 7        11      10       34\n",
       "  59 │ 1        t       0        42\n",
       "  60 │ t        t       0        5\n",
       "  61 │ 0        0       0        29\n",
       "  62 │ 1        t       0        7\n",
       "  63 │ 5        1       0        16\n",
       "  64 │ 30       t       t        42\n",
       "  65 │ 13       24      10       8\n",
       "  66 │ 30       t       t        42\n",
       "  67 │ 23       9       8        0\n",
       "\u001b[36m                         46 rows omitted\u001b[0m)"
      ]
     },
     "execution_count": 5,
     "metadata": {},
     "output_type": "execute_result"
    }
   ],
   "source": [
    "#X_train, X_test, y_train, y_test = fetch_openml(data_id=43423)\n",
    "target_cols = [\"Protein\", \"Fat\", \"Sat.Fat\", \"Carbs\"]\n",
    "X_train, y_train = fetch_openml(\n",
    "    data_id=43423,\n",
    "    target_column=target_cols, \n",
    ")"
   ]
  },
  {
   "cell_type": "code",
   "execution_count": null,
   "id": "09a124e5-33a5-44ab-add7-9e21ca1ac9b9",
   "metadata": {},
   "outputs": [],
   "source": [
    "println(\"Features names: $(names(X_train))\")"
   ]
  },
  {
   "cell_type": "code",
   "execution_count": null,
   "id": "2ad9af21-7602-482b-861d-b60306f2e594",
   "metadata": {},
   "outputs": [],
   "source": [
    "println(\"Unique classes: $(unique(y_train))\")"
   ]
  },
  {
   "cell_type": "code",
   "execution_count": null,
   "id": "f0326b15-0a8d-4c2d-b7c6-75915d15421a",
   "metadata": {},
   "outputs": [],
   "source": [
    "println(\"Train set size: $(nrow(X_train))\")"
   ]
  },
  {
   "cell_type": "code",
   "execution_count": null,
   "id": "89419abd-f9d6-4fbd-b055-eb1756c3341a",
   "metadata": {},
   "outputs": [],
   "source": [
    "println(\"Test set size: $(nrow(X_test))\")"
   ]
  },
  {
   "cell_type": "code",
   "execution_count": null,
   "id": "d59bde06-c1c3-4c74-a5f7-8cd459d854ff",
   "metadata": {},
   "outputs": [],
   "source": []
  },
  {
   "cell_type": "code",
   "execution_count": null,
   "id": "5c3018b1-228f-40a6-a944-294792985348",
   "metadata": {},
   "outputs": [],
   "source": []
  },
  {
   "cell_type": "markdown",
   "id": "a7465d74-b8b8-4e0c-a144-3856fe50b16f",
   "metadata": {},
   "source": [
    "## Predict Macronutrient Model:"
   ]
  }
 ],
 "metadata": {
  "kernelspec": {
   "display_name": "Julia 1.10.6",
   "language": "julia",
   "name": "julia-1.10"
  },
  "language_info": {
   "file_extension": ".jl",
   "mimetype": "application/julia",
   "name": "julia",
   "version": "1.10.6"
  }
 },
 "nbformat": 4,
 "nbformat_minor": 5
}
